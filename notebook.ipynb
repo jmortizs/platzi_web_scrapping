{
 "cells": [
  {
   "cell_type": "code",
   "execution_count": 9,
   "id": "3c6fabd1",
   "metadata": {},
   "outputs": [],
   "source": [
    "import requests\n",
    "from bs4 import BeautifulSoup\n",
    "from selenium import webdriver"
   ]
  },
  {
   "cell_type": "code",
   "execution_count": 27,
   "id": "31a9ca56",
   "metadata": {},
   "outputs": [],
   "source": [
    "url = 'https://www.latamairlines.com/cl/es/ofertas-vuelos?dataFlight=%7B%22tripTypeSelected%22%3A%7B%22label%22%3A%22Ida%20y%20Vuelta%22%2C%22value%22%3A%22RT%22%7D%2C%22cabinSelected%22%3A%7B%22label%22%3A%22Economy%22%2C%22value%22%3A%22Economy%22%7D%2C%22passengerSelected%22%3A%7B%22adultQuantity%22%3A1%2C%22childrenQuantity%22%3A0%2C%22infantQuantity%22%3A0%7D%2C%22originSelected%22%3A%7B%22id%22%3A%22BOG_CO_AIRPORT%22%2C%22name%22%3A%22El%20Dorado%20Intl.%22%2C%22city%22%3A%22Bogot%C3%A1%22%2C%22cityIsoCode%22%3A%22BOG%22%2C%22country%22%3A%22Colombia%22%2C%22iata%22%3A%22BOG%22%2C%22latitude%22%3A4.70159%2C%22longitude%22%3A-74.1469%2C%22timezone%22%3A-5%2C%22tz%22%3A%22America%2FBogota%22%2C%22type%22%3A%22AIRPORT%22%2C%22countryAlpha2%22%3A%22CO%22%2C%22airportIataCode%22%3A%22BOG%22%7D%2C%22destinationSelected%22%3A%7B%22id%22%3A%22MAD_ES_AIRPORT%22%2C%22name%22%3A%22Barajas%20Intl.%22%2C%22city%22%3A%22Madrid%22%2C%22cityIsoCode%22%3A%22MAD%22%2C%22country%22%3A%22Espa%C3%B1a%22%2C%22iata%22%3A%22MAD%22%2C%22latitude%22%3A40.471926%2C%22longitude%22%3A-3.56264%2C%22timezone%22%3A1%2C%22tz%22%3A%22Europe%2FMadrid%22%2C%22type%22%3A%22AIRPORT%22%2C%22countryAlpha2%22%3A%22ES%22%2C%22airportIataCode%22%3A%22MAD%22%7D%2C%22dateGoSelected%22%3A%222021-08-20T17%3A00%3A00.000Z%22%2C%22dateReturnSelected%22%3A%222021-08-28T17%3A00%3A00.000Z%22%2C%22redemption%22%3Afalse%7D&sort=RECOMMENDED'\n",
    "options = webdriver.ChromeOptions()\n",
    "options.binary_location = r'C:\\Program Files (x86)\\BraveSoftware\\Brave-Browser\\Application\\brave.exe'\n",
    "options.add_argument('--incognito')\n",
    "driver = webdriver.Chrome(executable_path='chromedriver.exe', options=options)\n",
    "driver.get(url)"
   ]
  },
  {
   "cell_type": "code",
   "execution_count": 28,
   "id": "b537c8b8",
   "metadata": {},
   "outputs": [],
   "source": [
    "s = BeautifulSoup(r.text, 'html')"
   ]
  },
  {
   "cell_type": "code",
   "execution_count": 29,
   "id": "35ad20f3",
   "metadata": {},
   "outputs": [],
   "source": [
    "flights =  driver.find_elements_by_xpath('//li[@class=\"sc-dvpmds cfVFEa\"]')"
   ]
  },
  {
   "cell_type": "code",
   "execution_count": 43,
   "id": "2c348492",
   "metadata": {},
   "outputs": [
    {
     "name": "stdout",
     "output_type": "stream",
     "text": [
      "Departure:13:00 Arrival:13:55+1 Dutarion:17 h 55 min\n",
      "Departure:17:56 Arrival:17:10+1 Dutarion:16 h 14 min\n",
      "Departure:21:15 Arrival:14:10+1 Dutarion:9 h 55 min\n"
     ]
    }
   ],
   "source": [
    "for flight in flights:\n",
    "    flight_info = flight.find_elements_by_xpath('.//div[@class=\"sc-hAXbOi jocxib flight-information\"]')\n",
    "    departure = flight_info[0].find_element_by_xpath('.//span[@class=\"sc-cfWELz iIRsqM\"]').text\n",
    "    arrival = flight_info[1].find_element_by_xpath('.//span[@class=\"sc-cfWELz iIRsqM\"]').text\n",
    "    flight_time = flight.find_element_by_xpath('.//span[@class=\"sc-hCaUpS cTjSBD\"]').text\n",
    "    arrival = arrival.replace('\\n', '')\n",
    "    print(f'Departure:{departure} Arrival:{arrival} Dutarion:{flight_time}')"
   ]
  },
  {
   "cell_type": "code",
   "execution_count": 48,
   "id": "7baf4459",
   "metadata": {},
   "outputs": [],
   "source": [
    "stop_button = flights[0].find_element_by_xpath('.//a[@class=\"sc-bRBYWo bhewGY\"]')"
   ]
  },
  {
   "cell_type": "code",
   "execution_count": 49,
   "id": "69fb0121",
   "metadata": {},
   "outputs": [],
   "source": [
    "stop_button.click()"
   ]
  },
  {
   "cell_type": "code",
   "execution_count": 57,
   "id": "82530a19",
   "metadata": {},
   "outputs": [],
   "source": [
    "stops = driver.find_elements_by_xpath('//section[@class=\"sc-jWxkHr fPpyxb\"]')"
   ]
  },
  {
   "cell_type": "code",
   "execution_count": 61,
   "id": "4fb5fceb",
   "metadata": {},
   "outputs": [
    {
     "name": "stdout",
     "output_type": "stream",
     "text": [
      "Number of stops: 1\n"
     ]
    }
   ],
   "source": [
    "print(f'Number of stops: {len(stops) - 1}')"
   ]
  },
  {
   "cell_type": "code",
   "execution_count": 62,
   "id": "354b1505",
   "metadata": {},
   "outputs": [],
   "source": [
    "driver.close()"
   ]
  },
  {
   "cell_type": "code",
   "execution_count": null,
   "id": "f81ec794",
   "metadata": {},
   "outputs": [],
   "source": []
  }
 ],
 "metadata": {
  "kernelspec": {
   "display_name": "Python 3 (ipykernel)",
   "language": "python",
   "name": "python3"
  },
  "language_info": {
   "codemirror_mode": {
    "name": "ipython",
    "version": 3
   },
   "file_extension": ".py",
   "mimetype": "text/x-python",
   "name": "python",
   "nbconvert_exporter": "python",
   "pygments_lexer": "ipython3",
   "version": "3.8.10"
  }
 },
 "nbformat": 4,
 "nbformat_minor": 5
}
