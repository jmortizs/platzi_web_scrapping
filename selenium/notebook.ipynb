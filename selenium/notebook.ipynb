{
 "cells": [
  {
   "cell_type": "code",
   "execution_count": 1,
   "id": "3c6fabd1",
   "metadata": {},
   "outputs": [],
   "source": [
    "import requests\n",
    "import time\n",
    "from bs4 import BeautifulSoup\n",
    "from selenium import webdriver\n",
    "from selenium.webdriver.support.ui import WebDriverWait\n",
    "from selenium.webdriver.support import expected_conditions as EC\n",
    "from selenium.webdriver.common.by import By\n",
    "from selenium.common.exceptions import TimeoutException"
   ]
  },
  {
   "cell_type": "code",
   "execution_count": 2,
   "id": "7e1f8bce",
   "metadata": {},
   "outputs": [],
   "source": [
    "def get_flight_info(flight):\n",
    "    \"\"\"\n",
    "    Function to get departure, arrival and flight duration for a found flight\n",
    "    \"\"\"\n",
    "    flight_info = flight.find_elements_by_xpath('.//div[@class=\"sc-hAXbOi jocxib flight-information\"]')\n",
    "    departure = flight_info[0].find_element_by_xpath('.//span[@class=\"sc-cfWELz iIRsqM\"]').text\n",
    "    arrival = flight_info[1].find_element_by_xpath('.//span[@class=\"sc-cfWELz iIRsqM\"]').text\n",
    "    flight_time = flight.find_element_by_xpath('.//span[@class=\"sc-hCaUpS cTjSBD\"]').text\n",
    "    arrival = arrival.replace('\\n', '')\n",
    "    \n",
    "    info = {\n",
    "        'departure': departure,\n",
    "        'arrival': arrival,\n",
    "        'duration': flight_time\n",
    "    }\n",
    "    return info\n",
    "    "
   ]
  },
  {
   "cell_type": "code",
   "execution_count": 3,
   "id": "2d00d66a",
   "metadata": {},
   "outputs": [],
   "source": [
    "def get_stops_info(flight):    \n",
    "    stop_button = flight.find_element_by_xpath('.//a[@class=\"sc-bRBYWo bhewGY\"]')\n",
    "    stop_button.click()    \n",
    "    st = WebDriverWait(driver, 5).until(EC.presence_of_element_located((By.XPATH, '//div[@class=\"iataCode\"]//span[@class=\"time\"]')))\n",
    "    \n",
    "    stops = driver.find_elements_by_xpath('//section[@class=\"sc-jWxkHr fPpyxb\"]')\n",
    "    stops_info = []\n",
    "    conns_info = []\n",
    "    \n",
    "    direct_flight = True\n",
    "    if len(stops) > 1:        \n",
    "        connections = driver.find_elements_by_xpath('//div[@class=\"sc-bYTsla hjShjO\"]')\n",
    "        direct_flight = False\n",
    "        \n",
    "    for s, stop in enumerate(stops):        \n",
    "        dep = stop.find_element_by_xpath('.//div[@class=\"sc-geAPOV biWURZ\"]')\n",
    "        dep_city = dep.find_element_by_xpath('.//div[@class=\"iataCode\"]//span').text\n",
    "        dep_time = dep.find_element_by_xpath('.//div[@class=\"iataCode\"]//span[@class=\"time\"]').text\n",
    "        dep_aport =  dep.find_element_by_xpath('.//span[@class=\"ariport-name\"]').text\n",
    "\n",
    "        flight_time = stop.find_element_by_xpath('.//div[@class=\"sc-bJTOcE iJlaOT\"]//span[@class=\"time\"]').text\n",
    "        airplane = stop.find_element_by_xpath('.//span[@class=\"airplane-code\"]').text\n",
    "\n",
    "        arr = stop.find_element_by_xpath('.//div[@class=\"sc-PLyBE iVAtbp\"]')\n",
    "        arr_city = arr.find_element_by_xpath('.//div[@class=\"iataCode\"]//span').text\n",
    "        arr_time = arr.find_element_by_xpath('.//div[@class=\"iataCode\"]//span[@class=\"time\"]').text\n",
    "        arr_aport =  arr.find_element_by_xpath('.//span[@class=\"ariport-name\"]').text\n",
    "                \n",
    "        stop_info = {\n",
    "            'departure': {\n",
    "                'city': dep_city,\n",
    "                'time': dep_time,\n",
    "                'airport': dep_aport,\n",
    "            },\n",
    "            'arrival': {\n",
    "                'city': arr_city,\n",
    "                'time': arr_time,\n",
    "                'airport': arr_aport,\n",
    "            },\n",
    "            'duration': flight_time,\n",
    "            'airplane': airplane,\n",
    "            'connection': '',\n",
    "            'connection_time': ''\n",
    "        }\n",
    "        \n",
    "        if stop != stops[-1]:\n",
    "            stop_info['connection'] = connections[s].find_element_by_xpath('.//span[@class=\"connection-text\"]').text\n",
    "            stop_info['connection_time'] = connections[s].find_element_by_xpath('.//span[@class=\"time\"]').text            \n",
    "        \n",
    "        stops_info.append(\n",
    "            stop_info\n",
    "        )\n",
    "        \n",
    "    driver.find_element_by_xpath('//button[@class=\"MuiButtonBase-root MuiIconButton-root sc-fBuWsC cNJQnZ\"]').click()\n",
    "        \n",
    "    return stops_info        \n",
    "    \n",
    "    \n",
    "    \n",
    "    "
   ]
  },
  {
   "cell_type": "code",
   "execution_count": 4,
   "id": "4af3526d",
   "metadata": {},
   "outputs": [],
   "source": [
    "def get_flares(flight):\n",
    "    flight.find_element_by_xpath('.//div[@class=\"sc-hizQCF mUhbx\"]').click()\n",
    "    flares = driver.find_elements_by_xpath('//div[@class=\"sc-dTsoBL izUUnZ\"]')\n",
    "    flares_info = []\n",
    "    \n",
    "    for f in flares:        \n",
    "        flares_info.append(\n",
    "            f.find_element_by_xpath('.//span[@class=\"sc-ileJJU bxvQhO displayAmount\"]').text\n",
    "        )\n",
    "        \n",
    "    return flares_info\n",
    "    "
   ]
  },
  {
   "cell_type": "code",
   "execution_count": 5,
   "id": "4d0a04b9",
   "metadata": {},
   "outputs": [],
   "source": [
    "def scrap_flights(driver):\n",
    "    delay = 5\n",
    "    flights_info = []\n",
    "    flights = driver.find_elements_by_xpath('//li[@class=\"sc-dvpmds cfVFEa\"]')\n",
    "    print(f'Found {len(flights)} flights.')\n",
    "    for flight in flights:\n",
    "        fligh_info = get_flight_info(flight)        \n",
    "        fligh_info['stops'] = get_stops_info(flight)        \n",
    "        fligh_info['flares'] = get_flares(flight)\n",
    "        \n",
    "        flights_info.append(fligh_info)\n",
    "        \n",
    "    return flights_info"
   ]
  },
  {
   "cell_type": "code",
   "execution_count": 6,
   "id": "31a9ca56",
   "metadata": {},
   "outputs": [
    {
     "name": "stdout",
     "output_type": "stream",
     "text": [
      "Found 3 flights.\n"
     ]
    }
   ],
   "source": [
    "url = 'https://www.latamairlines.com/cl/es/ofertas-vuelos?dataFlight=%7B%22tripTypeSelected%22%3A%7B%22label%22%3A%22Ida%20y%20Vuelta%22%2C%22value%22%3A%22RT%22%7D%2C%22cabinSelected%22%3A%7B%22label%22%3A%22Economy%22%2C%22value%22%3A%22Economy%22%7D%2C%22passengerSelected%22%3A%7B%22adultQuantity%22%3A1%2C%22childrenQuantity%22%3A0%2C%22infantQuantity%22%3A0%7D%2C%22originSelected%22%3A%7B%22id%22%3A%22BOG_CO_AIRPORT%22%2C%22name%22%3A%22El%20Dorado%20Intl.%22%2C%22city%22%3A%22Bogot%C3%A1%22%2C%22cityIsoCode%22%3A%22BOG%22%2C%22country%22%3A%22Colombia%22%2C%22iata%22%3A%22BOG%22%2C%22latitude%22%3A4.70159%2C%22longitude%22%3A-74.1469%2C%22timezone%22%3A-5%2C%22tz%22%3A%22America%2FBogota%22%2C%22type%22%3A%22AIRPORT%22%2C%22countryAlpha2%22%3A%22CO%22%2C%22airportIataCode%22%3A%22BOG%22%7D%2C%22destinationSelected%22%3A%7B%22id%22%3A%22MAD_ES_AIRPORT%22%2C%22name%22%3A%22Barajas%20Intl.%22%2C%22city%22%3A%22Madrid%22%2C%22cityIsoCode%22%3A%22MAD%22%2C%22country%22%3A%22Espa%C3%B1a%22%2C%22iata%22%3A%22MAD%22%2C%22latitude%22%3A40.471926%2C%22longitude%22%3A-3.56264%2C%22timezone%22%3A1%2C%22tz%22%3A%22Europe%2FMadrid%22%2C%22type%22%3A%22AIRPORT%22%2C%22countryAlpha2%22%3A%22ES%22%2C%22airportIataCode%22%3A%22MAD%22%7D%2C%22dateGoSelected%22%3A%222021-08-20T17%3A00%3A00.000Z%22%2C%22dateReturnSelected%22%3A%222021-08-28T17%3A00%3A00.000Z%22%2C%22redemption%22%3Afalse%7D&sort=RECOMMENDED'\n",
    "options = webdriver.ChromeOptions()\n",
    "options.binary_location = r'C:\\Program Files (x86)\\BraveSoftware\\Brave-Browser\\Application\\brave.exe'\n",
    "options.add_argument('--incognito')\n",
    "driver = webdriver.Chrome(executable_path='chromedriver.exe', options=options)\n",
    "driver.get(url)\n",
    "delay = 10\n",
    "try:\n",
    "    vuelo = WebDriverWait(driver, delay).until(EC.presence_of_element_located((By.XPATH, '//li[@class=\"sc-dvpmds cfVFEa\"]')))\n",
    "    flights_info = scrap_flights(driver)\n",
    "except TimeoutException:\n",
    "    print('Page take too long to load.')\n",
    "driver.close()"
   ]
  },
  {
   "cell_type": "code",
   "execution_count": 7,
   "id": "b21f7315",
   "metadata": {},
   "outputs": [
    {
     "data": {
      "text/plain": [
       "[{'departure': '13:00',\n",
       "  'arrival': '13:55+1',\n",
       "  'duration': '17 h 55 min',\n",
       "  'stops': [{'departure': {'city': 'BOG',\n",
       "     'time': '13:00',\n",
       "     'airport': 'El Dorado Intl.'},\n",
       "    'arrival': {'city': 'GRU', 'time': '21:10', 'airport': 'Guarulhos Intl.'},\n",
       "    'duration': '6 h 10 min',\n",
       "    'airplane': 'Airbus A321',\n",
       "    'connection': 'Conexión Sao Paulo',\n",
       "    'connection_time': '2 h'},\n",
       "   {'departure': {'city': 'GRU',\n",
       "     'time': '23:10',\n",
       "     'airport': 'Guarulhos Intl.'},\n",
       "    'arrival': {'city': 'MAD', 'time': '13:55', 'airport': 'Barajas Intl.'},\n",
       "    'duration': '9 h 45 min',\n",
       "    'airplane': 'Boeing B787-9',\n",
       "    'connection': '',\n",
       "    'connection_time': ''}],\n",
       "  'flares': ['$333.678', '$369.068', '$425.693', '$1.480.622']},\n",
       " {'departure': '17:56',\n",
       "  'arrival': '17:10+1',\n",
       "  'duration': '16 h 14 min',\n",
       "  'stops': [{'departure': {'city': 'BOG',\n",
       "     'time': '17:56',\n",
       "     'airport': 'El Dorado Intl.'},\n",
       "    'arrival': {'city': 'LIM', 'time': '20:55', 'airport': 'J Chavez Intl.'},\n",
       "    'duration': '2 h 59 min',\n",
       "    'airplane': 'Airbus A320',\n",
       "    'connection': 'Conexión Lima',\n",
       "    'connection_time': '1 h 40 min'},\n",
       "   {'departure': {'city': 'LIM', 'time': '22:35', 'airport': 'J Chavez Intl.'},\n",
       "    'arrival': {'city': 'MAD', 'time': '17:10', 'airport': 'Barajas Intl.'},\n",
       "    'duration': '11 h 35 min',\n",
       "    'airplane': 'Boeing B787-9',\n",
       "    'connection': '',\n",
       "    'connection_time': ''}],\n",
       "  'flares': ['$388.954', '$424.344', '$480.969', '$1.480.622']},\n",
       " {'departure': '21:15',\n",
       "  'arrival': '14:10+1',\n",
       "  'duration': '9 h 55 min',\n",
       "  'stops': [{'departure': {'city': 'BOG',\n",
       "     'time': '21:15',\n",
       "     'airport': 'El Dorado Intl.'},\n",
       "    'arrival': {'city': 'MAD', 'time': '14:10', 'airport': 'Barajas Intl.'},\n",
       "    'duration': '9 h 55 min',\n",
       "    'airplane': 'Airbus A350-900',\n",
       "    'connection': '',\n",
       "    'connection_time': ''}],\n",
       "  'flares': ['$395.864', '$453.331', '$1.480.622', '$1.759.605']}]"
      ]
     },
     "execution_count": 7,
     "metadata": {},
     "output_type": "execute_result"
    }
   ],
   "source": [
    "flights_info"
   ]
  },
  {
   "cell_type": "code",
   "execution_count": null,
   "id": "0f04aac7",
   "metadata": {},
   "outputs": [],
   "source": []
  }
 ],
 "metadata": {
  "kernelspec": {
   "display_name": "Python 3 (ipykernel)",
   "language": "python",
   "name": "python3"
  },
  "language_info": {
   "codemirror_mode": {
    "name": "ipython",
    "version": 3
   },
   "file_extension": ".py",
   "mimetype": "text/x-python",
   "name": "python",
   "nbconvert_exporter": "python",
   "pygments_lexer": "ipython3",
   "version": "3.8.10"
  }
 },
 "nbformat": 4,
 "nbformat_minor": 5
}
